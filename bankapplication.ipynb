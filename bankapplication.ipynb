{
 "cells": [
  {
   "cell_type": "code",
   "execution_count": 69,
   "id": "eba3ca1e",
   "metadata": {},
   "outputs": [],
   "source": [
    "import sagemaker\n",
    "import boto3\n",
    "from sagemaker.amazon.amazon_estimator import get_image_uri\n",
    "from sagemaker.session import s3_input,Session"
   ]
  },
  {
   "cell_type": "code",
   "execution_count": 35,
   "id": "f0cf98e5",
   "metadata": {},
   "outputs": [
    {
     "name": "stdout",
     "output_type": "stream",
     "text": [
      "eu-north-1\n"
     ]
    }
   ],
   "source": [
    "bucket_name='banks-app'\n",
    "my_region=boto3.session.Session().region_name\n",
    "print(my_region)"
   ]
  },
  {
   "cell_type": "code",
   "execution_count": 36,
   "id": "fa55abf8",
   "metadata": {},
   "outputs": [
    {
     "name": "stdout",
     "output_type": "stream",
     "text": [
      "Bucket1 created sucessfully\n"
     ]
    }
   ],
   "source": [
    "s3=boto3.resource('s3')\n",
    "try:\n",
    "    if my_region=='eu-north-1':\n",
    "        s3.create_bucket(Bucket=bucket_name, CreateBucketConfiguration={'LocationConstraint': my_region})\n",
    "        #s3.create_bucket(Bucket=bucket_name)\n",
    "    print(\"Bucket1 created sucessfully\")\n",
    "except Exception as e:\n",
    "    print(\"s3 error:\",e)"
   ]
  },
  {
   "cell_type": "code",
   "execution_count": 38,
   "id": "686eaec1",
   "metadata": {},
   "outputs": [
    {
     "name": "stdout",
     "output_type": "stream",
     "text": [
      "s3://banks-app/xgboost-as-a-built-in-algo/output\n"
     ]
    }
   ],
   "source": [
    "prefix='xgboost-as-a-built-in-algo'\n",
    "output_path='s3://{}/{}/output'.format(bucket_name,prefix)\n",
    "print(output_path)"
   ]
  },
  {
   "cell_type": "code",
   "execution_count": 43,
   "id": "c3dfc31a",
   "metadata": {},
   "outputs": [
    {
     "name": "stdout",
     "output_type": "stream",
     "text": [
      "Downloaded successfully\n",
      "Sucessfully loaded\n"
     ]
    }
   ],
   "source": [
    "import pandas as pd\n",
    "import urllib\n",
    "try:\n",
    "    urllib.request.urlretrieve(\"https://d1.awsstatic.com/tmt/build-train-deploy-machine-learning-model-sagemaker/bank_clean.27f01fbbdf43271788427f3682996ae29ceca05d.csv\",\"bank_clean.csv\")\n",
    "    print('Downloaded successfully')\n",
    "except expection as e:\n",
    "    print('Error is:',e)\n",
    "try:\n",
    "    model_data=pd.read_csv('./bank_clean.csv',index_col=0)\n",
    "    print('Sucessfully loaded')\n",
    "except exception as e:\n",
    "    print('error while loading:',e)"
   ]
  },
  {
   "cell_type": "code",
   "execution_count": 44,
   "id": "7e1f3c2c",
   "metadata": {},
   "outputs": [
    {
     "data": {
      "text/html": [
       "<div>\n",
       "<style scoped>\n",
       "    .dataframe tbody tr th:only-of-type {\n",
       "        vertical-align: middle;\n",
       "    }\n",
       "\n",
       "    .dataframe tbody tr th {\n",
       "        vertical-align: top;\n",
       "    }\n",
       "\n",
       "    .dataframe thead th {\n",
       "        text-align: right;\n",
       "    }\n",
       "</style>\n",
       "<table border=\"1\" class=\"dataframe\">\n",
       "  <thead>\n",
       "    <tr style=\"text-align: right;\">\n",
       "      <th></th>\n",
       "      <th>age</th>\n",
       "      <th>campaign</th>\n",
       "      <th>pdays</th>\n",
       "      <th>previous</th>\n",
       "      <th>no_previous_contact</th>\n",
       "      <th>not_working</th>\n",
       "      <th>job_admin.</th>\n",
       "      <th>job_blue-collar</th>\n",
       "      <th>job_entrepreneur</th>\n",
       "      <th>job_housemaid</th>\n",
       "      <th>...</th>\n",
       "      <th>day_of_week_fri</th>\n",
       "      <th>day_of_week_mon</th>\n",
       "      <th>day_of_week_thu</th>\n",
       "      <th>day_of_week_tue</th>\n",
       "      <th>day_of_week_wed</th>\n",
       "      <th>poutcome_failure</th>\n",
       "      <th>poutcome_nonexistent</th>\n",
       "      <th>poutcome_success</th>\n",
       "      <th>y_no</th>\n",
       "      <th>y_yes</th>\n",
       "    </tr>\n",
       "  </thead>\n",
       "  <tbody>\n",
       "    <tr>\n",
       "      <th>0</th>\n",
       "      <td>56</td>\n",
       "      <td>1</td>\n",
       "      <td>999</td>\n",
       "      <td>0</td>\n",
       "      <td>1</td>\n",
       "      <td>0</td>\n",
       "      <td>0</td>\n",
       "      <td>0</td>\n",
       "      <td>0</td>\n",
       "      <td>1</td>\n",
       "      <td>...</td>\n",
       "      <td>0</td>\n",
       "      <td>1</td>\n",
       "      <td>0</td>\n",
       "      <td>0</td>\n",
       "      <td>0</td>\n",
       "      <td>0</td>\n",
       "      <td>1</td>\n",
       "      <td>0</td>\n",
       "      <td>1</td>\n",
       "      <td>0</td>\n",
       "    </tr>\n",
       "    <tr>\n",
       "      <th>1</th>\n",
       "      <td>57</td>\n",
       "      <td>1</td>\n",
       "      <td>999</td>\n",
       "      <td>0</td>\n",
       "      <td>1</td>\n",
       "      <td>0</td>\n",
       "      <td>0</td>\n",
       "      <td>0</td>\n",
       "      <td>0</td>\n",
       "      <td>0</td>\n",
       "      <td>...</td>\n",
       "      <td>0</td>\n",
       "      <td>1</td>\n",
       "      <td>0</td>\n",
       "      <td>0</td>\n",
       "      <td>0</td>\n",
       "      <td>0</td>\n",
       "      <td>1</td>\n",
       "      <td>0</td>\n",
       "      <td>1</td>\n",
       "      <td>0</td>\n",
       "    </tr>\n",
       "    <tr>\n",
       "      <th>2</th>\n",
       "      <td>37</td>\n",
       "      <td>1</td>\n",
       "      <td>999</td>\n",
       "      <td>0</td>\n",
       "      <td>1</td>\n",
       "      <td>0</td>\n",
       "      <td>0</td>\n",
       "      <td>0</td>\n",
       "      <td>0</td>\n",
       "      <td>0</td>\n",
       "      <td>...</td>\n",
       "      <td>0</td>\n",
       "      <td>1</td>\n",
       "      <td>0</td>\n",
       "      <td>0</td>\n",
       "      <td>0</td>\n",
       "      <td>0</td>\n",
       "      <td>1</td>\n",
       "      <td>0</td>\n",
       "      <td>1</td>\n",
       "      <td>0</td>\n",
       "    </tr>\n",
       "    <tr>\n",
       "      <th>3</th>\n",
       "      <td>40</td>\n",
       "      <td>1</td>\n",
       "      <td>999</td>\n",
       "      <td>0</td>\n",
       "      <td>1</td>\n",
       "      <td>0</td>\n",
       "      <td>1</td>\n",
       "      <td>0</td>\n",
       "      <td>0</td>\n",
       "      <td>0</td>\n",
       "      <td>...</td>\n",
       "      <td>0</td>\n",
       "      <td>1</td>\n",
       "      <td>0</td>\n",
       "      <td>0</td>\n",
       "      <td>0</td>\n",
       "      <td>0</td>\n",
       "      <td>1</td>\n",
       "      <td>0</td>\n",
       "      <td>1</td>\n",
       "      <td>0</td>\n",
       "    </tr>\n",
       "    <tr>\n",
       "      <th>4</th>\n",
       "      <td>56</td>\n",
       "      <td>1</td>\n",
       "      <td>999</td>\n",
       "      <td>0</td>\n",
       "      <td>1</td>\n",
       "      <td>0</td>\n",
       "      <td>0</td>\n",
       "      <td>0</td>\n",
       "      <td>0</td>\n",
       "      <td>0</td>\n",
       "      <td>...</td>\n",
       "      <td>0</td>\n",
       "      <td>1</td>\n",
       "      <td>0</td>\n",
       "      <td>0</td>\n",
       "      <td>0</td>\n",
       "      <td>0</td>\n",
       "      <td>1</td>\n",
       "      <td>0</td>\n",
       "      <td>1</td>\n",
       "      <td>0</td>\n",
       "    </tr>\n",
       "  </tbody>\n",
       "</table>\n",
       "<p>5 rows × 61 columns</p>\n",
       "</div>"
      ],
      "text/plain": [
       "   age  campaign  pdays  previous  no_previous_contact  not_working  \\\n",
       "0   56         1    999         0                    1            0   \n",
       "1   57         1    999         0                    1            0   \n",
       "2   37         1    999         0                    1            0   \n",
       "3   40         1    999         0                    1            0   \n",
       "4   56         1    999         0                    1            0   \n",
       "\n",
       "   job_admin.  job_blue-collar  job_entrepreneur  job_housemaid  ...  \\\n",
       "0           0                0                 0              1  ...   \n",
       "1           0                0                 0              0  ...   \n",
       "2           0                0                 0              0  ...   \n",
       "3           1                0                 0              0  ...   \n",
       "4           0                0                 0              0  ...   \n",
       "\n",
       "   day_of_week_fri  day_of_week_mon  day_of_week_thu  day_of_week_tue  \\\n",
       "0                0                1                0                0   \n",
       "1                0                1                0                0   \n",
       "2                0                1                0                0   \n",
       "3                0                1                0                0   \n",
       "4                0                1                0                0   \n",
       "\n",
       "   day_of_week_wed  poutcome_failure  poutcome_nonexistent  poutcome_success  \\\n",
       "0                0                 0                     1                 0   \n",
       "1                0                 0                     1                 0   \n",
       "2                0                 0                     1                 0   \n",
       "3                0                 0                     1                 0   \n",
       "4                0                 0                     1                 0   \n",
       "\n",
       "   y_no  y_yes  \n",
       "0     1      0  \n",
       "1     1      0  \n",
       "2     1      0  \n",
       "3     1      0  \n",
       "4     1      0  \n",
       "\n",
       "[5 rows x 61 columns]"
      ]
     },
     "execution_count": 44,
     "metadata": {},
     "output_type": "execute_result"
    }
   ],
   "source": [
    "model_data.head()"
   ]
  },
  {
   "cell_type": "code",
   "execution_count": 46,
   "id": "edb8859e",
   "metadata": {},
   "outputs": [
    {
     "name": "stdout",
     "output_type": "stream",
     "text": [
      "(28831, 61) (12357, 61)\n"
     ]
    }
   ],
   "source": [
    "import numpy as np\n",
    "train_data, test_data= np.split(model_data.sample(frac=1, random_state=24), [int(0.7*len(model_data))])\n",
    "print(train_data.shape,test_data.shape)"
   ]
  },
  {
   "cell_type": "code",
   "execution_count": 77,
   "id": "c2d68292",
   "metadata": {},
   "outputs": [
    {
     "name": "stderr",
     "output_type": "stream",
     "text": [
      "INFO:botocore.credentials:Found credentials from IAM Role: BaseNotebookInstanceEc2InstanceRole\n"
     ]
    }
   ],
   "source": [
    "import os\n",
    "pd.concat([train_data['y_yes'],train_data.drop(['y_yes','y_no'],axis=1)],axis=1).to_csv('train.csv',index=False, header=False)\n",
    "boto3.Session().resource('s3').Bucket(bucket_name).Object(os.path.join(prefix, 'train/train.csv')).upload_file('train.csv')\n",
    "s3_input_train=sagemaker.TrainingInput(s3_data='s3://{}/{}/train'.format(bucket_name,prefix),content_type='csv')"
   ]
  },
  {
   "cell_type": "code",
   "execution_count": 78,
   "id": "cae12e7d",
   "metadata": {},
   "outputs": [
    {
     "name": "stderr",
     "output_type": "stream",
     "text": [
      "INFO:botocore.credentials:Found credentials from IAM Role: BaseNotebookInstanceEc2InstanceRole\n"
     ]
    }
   ],
   "source": [
    "pd.concat([test_data['y_yes'],test_data.drop(['y_yes','y_no'],axis=1)],axis=1).to_csv('test.csv',index=False, header=False)\n",
    "boto3.Session().resource('s3').Bucket(bucket_name).Object(os.path.join(prefix, 'test/test.csv')).upload_file('test.csv')\n",
    "s3_input_test=sagemaker.TrainingInput(s3_data='s3://{}/{}/test'.format(bucket_name,prefix),content_type='csv')\n"
   ]
  },
  {
   "cell_type": "code",
   "execution_count": 68,
   "id": "bf1aac17",
   "metadata": {},
   "outputs": [
    {
     "name": "stderr",
     "output_type": "stream",
     "text": [
      "INFO:sagemaker.image_uris:Ignoring unnecessary instance type: None.\n"
     ]
    }
   ],
   "source": [
    "#building xgboost model - inbuilt\n",
    "# models are stored in containers or image\n",
    "#container=sagemaker.image_uris.retrieve(boto3.Session().region_name, 'xgboost', version='1.0-1')\n",
    "from sagemaker import image_uris\n",
    "container = sagemaker.image_uris.retrieve(\"xgboost\", boto3.Session().region_name,version =\"latest\")"
   ]
  },
  {
   "cell_type": "code",
   "execution_count": 80,
   "id": "bf374c9a",
   "metadata": {},
   "outputs": [],
   "source": [
    "hyperparameters={\"max-depth\":\"5\", \"eta\":\"0.2\",\"gamma\":\"4\",\"min_child_weight\":\"6\",\"subsample\":\"0.7\",\"objective\":\"binary:logistic\",\"num_round\":50}"
   ]
  },
  {
   "cell_type": "code",
   "execution_count": 81,
   "id": "6849f627",
   "metadata": {},
   "outputs": [
    {
     "name": "stdout",
     "output_type": "stream",
     "text": [
      "sagemaker.config INFO - Not applying SDK defaults from location: /etc/xdg/sagemaker/config.yaml\n",
      "sagemaker.config INFO - Not applying SDK defaults from location: /home/ec2-user/.config/sagemaker/config.yaml\n",
      "sagemaker.config INFO - Not applying SDK defaults from location: /etc/xdg/sagemaker/config.yaml\n",
      "sagemaker.config INFO - Not applying SDK defaults from location: /home/ec2-user/.config/sagemaker/config.yaml\n"
     ]
    }
   ],
   "source": [
    "estimator = sagemaker.estimator.Estimator(image_uri=container,\n",
    "                                          hyperparameters=hyperparameters,\n",
    "                                          role=sagemaker.get_execution_role(),\n",
    "                                          instance_type = 'ml.m5.2xlarge',\n",
    "                                          instance_count= 1,\n",
    "                                          volume_size = 5,\n",
    "                                          output_path=output_path,\n",
    "                                           use_spot_instances=True,\n",
    "                                           max_run=300,\n",
    "                                           max_wait= 600)"
   ]
  },
  {
   "cell_type": "code",
   "execution_count": 82,
   "id": "a3d6514f",
   "metadata": {},
   "outputs": [
    {
     "name": "stderr",
     "output_type": "stream",
     "text": [
      "INFO:sagemaker:Creating training-job with name: xgboost-2024-01-02-10-38-12-883\n"
     ]
    },
    {
     "name": "stdout",
     "output_type": "stream",
     "text": [
      "2024-01-02 10:38:13 Starting - Starting the training job...\n",
      "2024-01-02 10:38:32 Starting - Preparing the instances for training......\n",
      "2024-01-02 10:39:40 Downloading - Downloading input data...\n",
      "2024-01-02 10:40:10 Downloading - Downloading the training image...\n",
      "2024-01-02 10:40:31 Training - Training image download completed. Training in progress...\u001b[34mArguments: train\u001b[0m\n",
      "\u001b[34m[2024-01-02:10:40:49:INFO] Running standalone xgboost training.\u001b[0m\n",
      "\u001b[34m[2024-01-02:10:40:49:INFO] File size need to be processed in the node: 4.83mb. Available memory size in the node: 23950.11mb\u001b[0m\n",
      "\u001b[34m[2024-01-02:10:40:49:INFO] Determined delimiter of CSV input is ','\u001b[0m\n",
      "\u001b[34m[10:40:49] S3DistributionType set as FullyReplicated\u001b[0m\n",
      "\u001b[34m[10:40:49] 28831x59 matrix with 1701029 entries loaded from /opt/ml/input/data/train?format=csv&label_column=0&delimiter=,\u001b[0m\n",
      "\u001b[34m[2024-01-02:10:40:49:INFO] Determined delimiter of CSV input is ','\u001b[0m\n",
      "\u001b[34m[10:40:49] S3DistributionType set as FullyReplicated\u001b[0m\n",
      "\u001b[34m[10:40:49] 12357x59 matrix with 729063 entries loaded from /opt/ml/input/data/validation?format=csv&label_column=0&delimiter=,\u001b[0m\n",
      "\u001b[34m[10:40:49] src/tree/updater_prune.cc:74: tree pruning end, 1 roots, 34 extra nodes, 24 pruned nodes, max_depth=6\u001b[0m\n",
      "\u001b[34m[0]#011train-error:0.101523#011validation-error:0.104232\u001b[0m\n",
      "\u001b[34m[10:40:49] src/tree/updater_prune.cc:74: tree pruning end, 1 roots, 38 extra nodes, 24 pruned nodes, max_depth=6\u001b[0m\n",
      "\u001b[34m[1]#011train-error:0.10069#011validation-error:0.103423\u001b[0m\n",
      "\u001b[34m[10:40:49] src/tree/updater_prune.cc:74: tree pruning end, 1 roots, 30 extra nodes, 34 pruned nodes, max_depth=6\u001b[0m\n",
      "\u001b[34m[2]#011train-error:0.100413#011validation-error:0.102533\u001b[0m\n",
      "\u001b[34m[10:40:49] src/tree/updater_prune.cc:74: tree pruning end, 1 roots, 42 extra nodes, 30 pruned nodes, max_depth=6\u001b[0m\n",
      "\u001b[34m[3]#011train-error:0.099719#011validation-error:0.10318\u001b[0m\n",
      "\u001b[34m[10:40:49] src/tree/updater_prune.cc:74: tree pruning end, 1 roots, 42 extra nodes, 18 pruned nodes, max_depth=6\u001b[0m\n",
      "\u001b[34m[4]#011train-error:0.099684#011validation-error:0.104232\u001b[0m\n",
      "\u001b[34m[10:40:49] src/tree/updater_prune.cc:74: tree pruning end, 1 roots, 40 extra nodes, 18 pruned nodes, max_depth=6\u001b[0m\n",
      "\u001b[34m[5]#011train-error:0.099754#011validation-error:0.103423\u001b[0m\n",
      "\u001b[34m[10:40:49] src/tree/updater_prune.cc:74: tree pruning end, 1 roots, 40 extra nodes, 36 pruned nodes, max_depth=6\u001b[0m\n",
      "\u001b[34m[6]#011train-error:0.099615#011validation-error:0.102857\u001b[0m\n",
      "\u001b[34m[10:40:49] src/tree/updater_prune.cc:74: tree pruning end, 1 roots, 30 extra nodes, 42 pruned nodes, max_depth=6\u001b[0m\n",
      "\u001b[34m[7]#011train-error:0.100031#011validation-error:0.10229\u001b[0m\n",
      "\u001b[34m[10:40:49] src/tree/updater_prune.cc:74: tree pruning end, 1 roots, 40 extra nodes, 52 pruned nodes, max_depth=6\u001b[0m\n",
      "\u001b[34m[8]#011train-error:0.100239#011validation-error:0.10229\u001b[0m\n",
      "\u001b[34m[10:40:49] src/tree/updater_prune.cc:74: tree pruning end, 1 roots, 26 extra nodes, 32 pruned nodes, max_depth=6\u001b[0m\n",
      "\u001b[34m[9]#011train-error:0.10017#011validation-error:0.102128\u001b[0m\n",
      "\u001b[34m[10:40:49] src/tree/updater_prune.cc:74: tree pruning end, 1 roots, 30 extra nodes, 30 pruned nodes, max_depth=6\u001b[0m\n",
      "\u001b[34m[10]#011train-error:0.100135#011validation-error:0.102047\u001b[0m\n",
      "\u001b[34m[10:40:49] src/tree/updater_prune.cc:74: tree pruning end, 1 roots, 24 extra nodes, 46 pruned nodes, max_depth=6\u001b[0m\n",
      "\u001b[34m[11]#011train-error:0.09958#011validation-error:0.103099\u001b[0m\n",
      "\u001b[34m[10:40:49] src/tree/updater_prune.cc:74: tree pruning end, 1 roots, 38 extra nodes, 12 pruned nodes, max_depth=6\u001b[0m\n",
      "\u001b[34m[12]#011train-error:0.099407#011validation-error:0.102857\u001b[0m\n",
      "\u001b[34m[10:40:49] src/tree/updater_prune.cc:74: tree pruning end, 1 roots, 46 extra nodes, 24 pruned nodes, max_depth=6\u001b[0m\n",
      "\u001b[34m[13]#011train-error:0.099511#011validation-error:0.103019\u001b[0m\n",
      "\u001b[34m[10:40:49] src/tree/updater_prune.cc:74: tree pruning end, 1 roots, 28 extra nodes, 28 pruned nodes, max_depth=6\u001b[0m\n",
      "\u001b[34m[14]#011train-error:0.099511#011validation-error:0.102695\u001b[0m\n",
      "\u001b[34m[10:40:49] src/tree/updater_prune.cc:74: tree pruning end, 1 roots, 24 extra nodes, 36 pruned nodes, max_depth=6\u001b[0m\n",
      "\u001b[34m[15]#011train-error:0.099199#011validation-error:0.102452\u001b[0m\n",
      "\u001b[34m[10:40:49] src/tree/updater_prune.cc:74: tree pruning end, 1 roots, 26 extra nodes, 26 pruned nodes, max_depth=6\u001b[0m\n",
      "\u001b[34m[16]#011train-error:0.098817#011validation-error:0.102857\u001b[0m\n",
      "\u001b[34m[10:40:49] src/tree/updater_prune.cc:74: tree pruning end, 1 roots, 32 extra nodes, 48 pruned nodes, max_depth=6\u001b[0m\n",
      "\u001b[34m[17]#011train-error:0.098332#011validation-error:0.10229\u001b[0m\n",
      "\u001b[34m[10:40:49] src/tree/updater_prune.cc:74: tree pruning end, 1 roots, 44 extra nodes, 20 pruned nodes, max_depth=6\u001b[0m\n",
      "\u001b[34m[18]#011train-error:0.098436#011validation-error:0.102047\u001b[0m\n",
      "\u001b[34m[10:40:49] src/tree/updater_prune.cc:74: tree pruning end, 1 roots, 28 extra nodes, 24 pruned nodes, max_depth=6\u001b[0m\n",
      "\u001b[34m[19]#011train-error:0.098505#011validation-error:0.102047\u001b[0m\n",
      "\u001b[34m[10:40:49] src/tree/updater_prune.cc:74: tree pruning end, 1 roots, 26 extra nodes, 26 pruned nodes, max_depth=6\u001b[0m\n",
      "\u001b[34m[20]#011train-error:0.098679#011validation-error:0.102047\u001b[0m\n",
      "\u001b[34m[10:40:49] src/tree/updater_prune.cc:74: tree pruning end, 1 roots, 28 extra nodes, 18 pruned nodes, max_depth=6\u001b[0m\n",
      "\u001b[34m[21]#011train-error:0.098332#011validation-error:0.101805\u001b[0m\n",
      "\u001b[34m[10:40:49] src/tree/updater_prune.cc:74: tree pruning end, 1 roots, 24 extra nodes, 12 pruned nodes, max_depth=6\u001b[0m\n",
      "\u001b[34m[22]#011train-error:0.098505#011validation-error:0.101967\u001b[0m\n",
      "\u001b[34m[10:40:49] src/tree/updater_prune.cc:74: tree pruning end, 1 roots, 32 extra nodes, 20 pruned nodes, max_depth=6\u001b[0m\n",
      "\u001b[34m[23]#011train-error:0.098574#011validation-error:0.101805\u001b[0m\n",
      "\u001b[34m[10:40:49] src/tree/updater_prune.cc:74: tree pruning end, 1 roots, 24 extra nodes, 14 pruned nodes, max_depth=6\u001b[0m\n",
      "\u001b[34m[24]#011train-error:0.098366#011validation-error:0.101886\u001b[0m\n",
      "\u001b[34m[10:40:49] src/tree/updater_prune.cc:74: tree pruning end, 1 roots, 22 extra nodes, 16 pruned nodes, max_depth=6\u001b[0m\n",
      "\u001b[34m[25]#011train-error:0.098679#011validation-error:0.102128\u001b[0m\n",
      "\u001b[34m[10:40:49] src/tree/updater_prune.cc:74: tree pruning end, 1 roots, 24 extra nodes, 34 pruned nodes, max_depth=6\u001b[0m\n",
      "\u001b[34m[26]#011train-error:0.098436#011validation-error:0.101724\u001b[0m\n",
      "\u001b[34m[10:40:49] src/tree/updater_prune.cc:74: tree pruning end, 1 roots, 20 extra nodes, 20 pruned nodes, max_depth=6\u001b[0m\n",
      "\u001b[34m[27]#011train-error:0.098262#011validation-error:0.101805\u001b[0m\n",
      "\u001b[34m[10:40:49] src/tree/updater_prune.cc:74: tree pruning end, 1 roots, 28 extra nodes, 32 pruned nodes, max_depth=6\u001b[0m\n",
      "\u001b[34m[28]#011train-error:0.098089#011validation-error:0.101724\u001b[0m\n",
      "\u001b[34m[10:40:49] src/tree/updater_prune.cc:74: tree pruning end, 1 roots, 38 extra nodes, 40 pruned nodes, max_depth=6\u001b[0m\n",
      "\u001b[34m[29]#011train-error:0.097881#011validation-error:0.101643\u001b[0m\n",
      "\u001b[34m[10:40:49] src/tree/updater_prune.cc:74: tree pruning end, 1 roots, 56 extra nodes, 32 pruned nodes, max_depth=6\u001b[0m\n",
      "\u001b[34m[30]#011train-error:0.097603#011validation-error:0.102209\u001b[0m\n",
      "\u001b[34m[10:40:49] src/tree/updater_prune.cc:74: tree pruning end, 1 roots, 26 extra nodes, 40 pruned nodes, max_depth=6\u001b[0m\n",
      "\u001b[34m[31]#011train-error:0.097742#011validation-error:0.102128\u001b[0m\n",
      "\u001b[34m[10:40:49] src/tree/updater_prune.cc:74: tree pruning end, 1 roots, 20 extra nodes, 36 pruned nodes, max_depth=6\u001b[0m\n",
      "\u001b[34m[32]#011train-error:0.097846#011validation-error:0.102371\u001b[0m\n",
      "\u001b[34m[10:40:49] src/tree/updater_prune.cc:74: tree pruning end, 1 roots, 10 extra nodes, 30 pruned nodes, max_depth=4\u001b[0m\n",
      "\u001b[34m[33]#011train-error:0.097742#011validation-error:0.102047\u001b[0m\n",
      "\u001b[34m[10:40:49] src/tree/updater_prune.cc:74: tree pruning end, 1 roots, 16 extra nodes, 40 pruned nodes, max_depth=4\u001b[0m\n",
      "\u001b[34m[34]#011train-error:0.097673#011validation-error:0.102047\u001b[0m\n",
      "\u001b[34m[10:40:50] src/tree/updater_prune.cc:74: tree pruning end, 1 roots, 34 extra nodes, 22 pruned nodes, max_depth=6\u001b[0m\n",
      "\u001b[34m[35]#011train-error:0.09743#011validation-error:0.101805\u001b[0m\n",
      "\u001b[34m[10:40:50] src/tree/updater_prune.cc:74: tree pruning end, 1 roots, 22 extra nodes, 18 pruned nodes, max_depth=6\u001b[0m\n",
      "\u001b[34m[36]#011train-error:0.097395#011validation-error:0.101724\u001b[0m\n",
      "\u001b[34m[10:40:50] src/tree/updater_prune.cc:74: tree pruning end, 1 roots, 12 extra nodes, 22 pruned nodes, max_depth=6\u001b[0m\n",
      "\u001b[34m[37]#011train-error:0.097118#011validation-error:0.101643\u001b[0m\n",
      "\u001b[34m[10:40:50] src/tree/updater_prune.cc:74: tree pruning end, 1 roots, 20 extra nodes, 32 pruned nodes, max_depth=5\u001b[0m\n",
      "\u001b[34m[38]#011train-error:0.097048#011validation-error:0.101481\u001b[0m\n",
      "\u001b[34m[10:40:50] src/tree/updater_prune.cc:74: tree pruning end, 1 roots, 20 extra nodes, 6 pruned nodes, max_depth=6\u001b[0m\n",
      "\u001b[34m[39]#011train-error:0.096944#011validation-error:0.102128\u001b[0m\n",
      "\u001b[34m[10:40:50] src/tree/updater_prune.cc:74: tree pruning end, 1 roots, 34 extra nodes, 32 pruned nodes, max_depth=6\u001b[0m\n",
      "\u001b[34m[40]#011train-error:0.096597#011validation-error:0.101562\u001b[0m\n",
      "\u001b[34m[10:40:50] src/tree/updater_prune.cc:74: tree pruning end, 1 roots, 36 extra nodes, 46 pruned nodes, max_depth=6\u001b[0m\n",
      "\u001b[34m[41]#011train-error:0.096701#011validation-error:0.101967\u001b[0m\n",
      "\u001b[34m[10:40:50] src/tree/updater_prune.cc:74: tree pruning end, 1 roots, 24 extra nodes, 24 pruned nodes, max_depth=6\u001b[0m\n",
      "\u001b[34m[42]#011train-error:0.096459#011validation-error:0.101805\u001b[0m\n",
      "\u001b[34m[10:40:50] src/tree/updater_prune.cc:74: tree pruning end, 1 roots, 32 extra nodes, 34 pruned nodes, max_depth=6\u001b[0m\n",
      "\u001b[34m[43]#011train-error:0.096424#011validation-error:0.101643\u001b[0m\n",
      "\u001b[34m[10:40:50] src/tree/updater_prune.cc:74: tree pruning end, 1 roots, 20 extra nodes, 32 pruned nodes, max_depth=6\u001b[0m\n",
      "\u001b[34m[44]#011train-error:0.096424#011validation-error:0.101481\u001b[0m\n",
      "\u001b[34m[10:40:50] src/tree/updater_prune.cc:74: tree pruning end, 1 roots, 12 extra nodes, 10 pruned nodes, max_depth=6\u001b[0m\n",
      "\u001b[34m[45]#011train-error:0.096216#011validation-error:0.101562\u001b[0m\n",
      "\u001b[34m[10:40:50] src/tree/updater_prune.cc:74: tree pruning end, 1 roots, 8 extra nodes, 38 pruned nodes, max_depth=4\u001b[0m\n",
      "\u001b[34m[46]#011train-error:0.09632#011validation-error:0.1014\u001b[0m\n",
      "\u001b[34m[10:40:50] src/tree/updater_prune.cc:74: tree pruning end, 1 roots, 14 extra nodes, 16 pruned nodes, max_depth=6\u001b[0m\n",
      "\u001b[34m[47]#011train-error:0.096355#011validation-error:0.101319\u001b[0m\n",
      "\u001b[34m[10:40:50] src/tree/updater_prune.cc:74: tree pruning end, 1 roots, 26 extra nodes, 38 pruned nodes, max_depth=6\u001b[0m\n",
      "\u001b[34m[48]#011train-error:0.096251#011validation-error:0.101967\u001b[0m\n",
      "\u001b[34m[10:40:50] src/tree/updater_prune.cc:74: tree pruning end, 1 roots, 16 extra nodes, 46 pruned nodes, max_depth=6\u001b[0m\n",
      "\u001b[34m[49]#011train-error:0.096112#011validation-error:0.101886\u001b[0m\n",
      "\n",
      "2024-01-02 10:41:07 Uploading - Uploading generated training model\n",
      "2024-01-02 10:41:07 Completed - Training job completed\n",
      "Training seconds: 87\n",
      "Billable seconds: 30\n",
      "Managed Spot Training savings: 65.5%\n"
     ]
    }
   ],
   "source": [
    "\n",
    "estimator.fit({'train': s3_input_train,'validation': s3_input_test})"
   ]
  },
  {
   "cell_type": "code",
   "execution_count": 85,
   "id": "ef3bb72f",
   "metadata": {},
   "outputs": [
    {
     "name": "stderr",
     "output_type": "stream",
     "text": [
      "INFO:sagemaker:Creating model with name: xgboost-2024-01-02-11-07-18-788\n",
      "INFO:sagemaker:Creating endpoint-config with name xgboost-2024-01-02-11-07-18-788\n",
      "INFO:sagemaker:Creating endpoint with name xgboost-2024-01-02-11-07-18-788\n"
     ]
    },
    {
     "name": "stdout",
     "output_type": "stream",
     "text": [
      "---!"
     ]
    }
   ],
   "source": [
    "xgb_predictor=estimator.deploy(initial_instance_count=1,instance_type='ml.m5.2xlarge')"
   ]
  },
  {
   "cell_type": "code",
   "execution_count": 88,
   "id": "933d5516",
   "metadata": {},
   "outputs": [
    {
     "name": "stdout",
     "output_type": "stream",
     "text": [
      "(12357,)\n"
     ]
    }
   ],
   "source": [
    "from sagemaker.serializers import CSVSerializer\n",
    "test_data_array = test_data.drop(['y_no', 'y_yes'], axis=1).values #load the data into an array\n",
    "xgb_predictor.content_type = 'text/csv' # set the data type for an inference\n",
    "xgb_predictor.serializer = CSVSerializer() # set the serializer type\n",
    "predictions = xgb_predictor.predict(test_data_array).decode('utf-8') # predict!\n",
    "predictions_array = np.fromstring(predictions[1:], sep=',') # and turn the prediction into an array\n",
    "print(predictions_array.shape)\n",
    "     "
   ]
  },
  {
   "cell_type": "code",
   "execution_count": 89,
   "id": "694cb1c4",
   "metadata": {},
   "outputs": [
    {
     "data": {
      "text/plain": [
       "array([0.02635947, 0.10143997, 0.07695106, ..., 0.09779303, 0.0377324 ,\n",
       "       0.03174843])"
      ]
     },
     "execution_count": 89,
     "metadata": {},
     "output_type": "execute_result"
    }
   ],
   "source": [
    "predictions_array"
   ]
  },
  {
   "cell_type": "code",
   "execution_count": 90,
   "id": "2270ca18",
   "metadata": {},
   "outputs": [
    {
     "name": "stdout",
     "output_type": "stream",
     "text": [
      "\n",
      "Overall Classification Rate: 89.8%\n",
      "\n",
      "Predicted      No Purchase    Purchase\n",
      "Observed\n",
      "No Purchase    91% (10781)    37% (190)\n",
      "Purchase        9% (1069)     63% (317) \n",
      "\n"
     ]
    }
   ],
   "source": [
    "cm = pd.crosstab(index=test_data['y_yes'], columns=np.round(predictions_array), rownames=['Observed'], colnames=['Predicted'])\n",
    "tn = cm.iloc[0,0]; fn = cm.iloc[1,0]; tp = cm.iloc[1,1]; fp = cm.iloc[0,1]; p = (tp+tn)/(tp+tn+fp+fn)*100\n",
    "print(\"\\n{0:<20}{1:<4.1f}%\\n\".format(\"Overall Classification Rate: \", p))\n",
    "print(\"{0:<15}{1:<15}{2:>8}\".format(\"Predicted\", \"No Purchase\", \"Purchase\"))\n",
    "print(\"Observed\")\n",
    "print(\"{0:<15}{1:<2.0f}% ({2:<}){3:>6.0f}% ({4:<})\".format(\"No Purchase\", tn/(tn+fn)*100,tn, fp/(tp+fp)*100, fp))\n",
    "print(\"{0:<16}{1:<1.0f}% ({2:<}){3:>7.0f}% ({4:<}) \\n\".format(\"Purchase\", fn/(tn+fn)*100,fn, tp/(tp+fp)*100, tp))\n",
    "     "
   ]
  },
  {
   "cell_type": "code",
   "execution_count": null,
   "id": "46ce4912",
   "metadata": {},
   "outputs": [],
   "source": [
    "sagemaker.Session().delete_endpoint(xgb_predictor.endpoint)\n",
    "bucket_to_delete = boto3.resource('s3').Bucket(bucket_name)\n",
    "bucket_to_delete.objects.all().delete()"
   ]
  }
 ],
 "metadata": {
  "kernelspec": {
   "display_name": "conda_python3",
   "language": "python",
   "name": "conda_python3"
  },
  "language_info": {
   "codemirror_mode": {
    "name": "ipython",
    "version": 3
   },
   "file_extension": ".py",
   "mimetype": "text/x-python",
   "name": "python",
   "nbconvert_exporter": "python",
   "pygments_lexer": "ipython3",
   "version": "3.10.13"
  }
 },
 "nbformat": 4,
 "nbformat_minor": 5
}
